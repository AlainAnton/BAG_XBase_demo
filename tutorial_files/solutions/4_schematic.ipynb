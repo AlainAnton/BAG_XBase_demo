{
 "cells": [
  {
   "cell_type": "markdown",
   "metadata": {
    "collapsed": true
   },
   "source": [
    "## AmpSF schematic generator solution\n",
    "The follow cell contains the solution for AmpSF schematic generator.  you should be able to evaluate it and run the flow.  Note that it uses `amp_sf_soln` schematic template instead of the `amp_sf` schematic template you meant to fill out.  If you wish to debug your schematic template, you can change `amp_sf_soln` to `amp_sf` in the `yaml_file` class variable."
   ]
  },
  {
   "cell_type": "code",
   "execution_count": null,
   "metadata": {},
   "outputs": [],
   "source": [
    "%matplotlib inline\n",
    "\n",
    "import os\n",
    "\n",
    "from bag.design import Module\n",
    "\n",
    "\n",
    "# noinspection PyPep8Naming\n",
    "class demo_templates__amp_sf(Module):\n",
    "    \"\"\"Schematic generator for a source follower.\n",
    "    \"\"\"\n",
    "\n",
    "    # hard coded netlist flie path to get jupyter notebook working.\n",
    "    yaml_file = os.path.join(os.environ['BAG_WORK_DIR'], 'BAG_XBase_demo', \n",
    "                             'BagModules', 'demo_templates', 'netlist_info', 'amp_sf_soln.yaml') \n",
    "\n",
    "    def __init__(self, bag_config, parent=None, prj=None, **kwargs):\n",
    "        Module.__init__(self, bag_config, self.yaml_file, parent=parent, prj=prj, **kwargs)\n",
    "\n",
    "    @classmethod\n",
    "    def get_params_info(cls):\n",
    "        return dict(\n",
    "            lch='channel length in meters.',\n",
    "            w_dict='Dictionary of transistor widths.',\n",
    "            intent_dict='Dictionary of transistor threshold flavors.',\n",
    "            fg_dict='Dictionary of transistor number of fingers.',\n",
    "            dum_info='Dummy information data structure',\n",
    "        )\n",
    "\n",
    "    def design(self, lch, w_dict, intent_dict, fg_dict, dum_info):\n",
    "        w_amp = w_dict['amp']\n",
    "        w_bias = w_dict['bias']\n",
    "        intent_amp = intent_dict['amp']\n",
    "        intent_bias = intent_dict['bias']\n",
    "        fg_amp = fg_dict['amp']\n",
    "        fg_bias = fg_dict['bias']\n",
    "\n",
    "        self.instances['XAMP'].design(w=w_amp, l=lch, intent=intent_amp, nf=fg_amp)\n",
    "        self.instances['XBIAS'].design(w=w_bias, l=lch, intent=intent_bias, nf=fg_bias)\n",
    "\n",
    "        # handle dummy transistors\n",
    "        self.design_dummy_transistors(dum_info, 'XDUM', 'VDD', 'VSS')\n",
    "\n",
    "        \n",
    "import os\n",
    "\n",
    "# import bag package\n",
    "import bag\n",
    "from bag.io import read_yaml\n",
    "\n",
    "# import BAG demo Python modules\n",
    "import xbase_demo.core as demo_core\n",
    "from xbase_demo.demo_layout.core import AmpSFSoln\n",
    "\n",
    "# load circuit specifications from file\n",
    "spec_fname = os.path.join(os.environ['BAG_WORK_DIR'], 'specs_demo/demo.yaml')\n",
    "top_specs = read_yaml(spec_fname)\n",
    "\n",
    "# obtain BagProject instance\n",
    "local_dict = locals()\n",
    "if 'bprj' in local_dict:\n",
    "    print('using existing BagProject')\n",
    "    bprj = local_dict['bprj']\n",
    "else:\n",
    "    print('creating BagProject')\n",
    "    bprj = bag.BagProject()\n",
    "\n",
    "demo_core.run_flow(bprj, top_specs, 'amp_sf_soln', AmpSFSoln, sch_cls=demo_templates__amp_sf, run_lvs=True)"
   ]
  }
 ],
 "metadata": {
  "anaconda-cloud": {},
  "kernelspec": {
   "display_name": "Python 3",
   "language": "python",
   "name": "python3"
  },
  "language_info": {
   "codemirror_mode": {
    "name": "ipython",
    "version": 3
   },
   "file_extension": ".py",
   "mimetype": "text/x-python",
   "name": "python",
   "nbconvert_exporter": "python",
   "pygments_lexer": "ipython3",
   "version": "3.6.8"
  }
 },
 "nbformat": 4,
 "nbformat_minor": 1
}
