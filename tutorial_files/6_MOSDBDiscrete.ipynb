{
 "cells": [
  {
   "cell_type": "markdown",
   "metadata": {},
   "source": [
    "# MOSDBDiscrete\n",
    "In this module, we will have a brief overview of the `MOSDBDiscrete` class, which manages a transistor characterization database and provide methods for designers to query transistor small signal parameters."
   ]
  },
  {
   "cell_type": "markdown",
   "metadata": {},
   "source": [
    "## MOSDBDiscrete example\n",
    "To use the transistor characterization database, evaluate the following cell, which defines two methods, `query()` and `plot_data()`."
   ]
  },
  {
   "cell_type": "code",
   "execution_count": null,
   "metadata": {},
   "outputs": [],
   "source": [
    "%matplotlib inline\n",
    "\n",
    "import os\n",
    "import pprint\n",
    "\n",
    "import numpy as np\n",
    "import matplotlib.pyplot as plt\n",
    "# noinspection PyUnresolvedReferences\n",
    "from mpl_toolkits.mplot3d import Axes3D\n",
    "from matplotlib import cm\n",
    "from matplotlib import ticker\n",
    "\n",
    "from verification.mos.query import MOSDBDiscrete\n",
    "\n",
    "interp_method = 'spline'\n",
    "spec_file = os.path.join(os.environ['BAG_WORK_DIR'], 'demo_data', 'mos_char_nch', 'specs.yaml')\n",
    "env_default = 'tt'\n",
    "intent = 'standard'\n",
    "\n",
    "\n",
    "def query(vgs=None, vds=None, vbs=0.0, vstar=None, env_list=None):\n",
    "    \"\"\"Get interpolation function and plot/query.\"\"\"\n",
    "\n",
    "    spec_list = [spec_file]\n",
    "    if env_list is None:\n",
    "        env_list = [env_default]\n",
    "\n",
    "    # initialize transistor database from simulation data\n",
    "    nch_db = MOSDBDiscrete(spec_list, interp_method=interp_method)\n",
    "    # set process corners\n",
    "    nch_db.env_list = env_list\n",
    "    # set layout parameters\n",
    "    nch_db.set_dsn_params(intent=intent)\n",
    "    # returns a dictionary of smal-signal parameters\n",
    "    return nch_db.query(vbs=vbs, vds=vds, vgs=vgs, vstar=vstar)\n",
    "\n",
    "\n",
    "def plot_data(name='ibias', bounds=None, unit_val=None, unit_label=None):\n",
    "    \"\"\"Get interpolation function and plot/query.\"\"\"\n",
    "    env_list = [env_default]\n",
    "    vbs = 0.0\n",
    "    nvds = 41\n",
    "    nvgs = 81\n",
    "    spec_list = [spec_file]\n",
    "\n",
    "    print('create transistor database')\n",
    "    nch_db = MOSDBDiscrete(spec_list, interp_method=interp_method)\n",
    "    nch_db.env_list = env_list\n",
    "    nch_db.set_dsn_params(intent=intent)\n",
    "\n",
    "    f = nch_db.get_function(name)\n",
    "    vds_min, vds_max = f.get_input_range(1)\n",
    "    vgs_min, vgs_max = f.get_input_range(2)\n",
    "    if bounds is not None:\n",
    "        if 'vgs' in bounds:\n",
    "            v0, v1 = bounds['vgs']\n",
    "            if v0 is not None:\n",
    "                vgs_min = max(vgs_min, v0)\n",
    "            if v1 is not None:\n",
    "                vgs_max = min(vgs_max, v1)\n",
    "        if 'vds' in bounds:\n",
    "            v0, v1 = bounds['vds']\n",
    "            if v0 is not None:\n",
    "                vds_min = max(vds_min, v0)\n",
    "            if v1 is not None:\n",
    "                vds_max = min(vds_max, v1)\n",
    "\n",
    "    # query values.\n",
    "    vds_test = (vds_min + vds_max) / 2\n",
    "    vgs_test = (vgs_min + vgs_max) / 2\n",
    "    pprint.pprint(nch_db.query(vbs=vbs, vds=vds_test, vgs=vgs_test))\n",
    "\n",
    "    vbs_vec = [vbs]\n",
    "    vds_vec = np.linspace(vds_min, vds_max, nvds, endpoint=True)\n",
    "    vgs_vec = np.linspace(vgs_min, vgs_max, nvgs, endpoint=True)\n",
    "    vbs_mat, vds_mat, vgs_mat = np.meshgrid(vbs_vec, vds_vec, vgs_vec, indexing='ij', copy=False)\n",
    "    arg = np.stack((vbs_mat, vds_mat, vgs_mat), axis=-1)\n",
    "    ans = f(arg)\n",
    "\n",
    "    vds_mat = vds_mat.reshape((nvds, nvgs))\n",
    "    vgs_mat = vgs_mat.reshape((nvds, nvgs))\n",
    "    ans = ans.reshape((nvds, nvgs, len(env_list)))\n",
    "\n",
    "    formatter = ticker.ScalarFormatter(useMathText=True)\n",
    "    formatter.set_scientific(True)\n",
    "    formatter.set_powerlimits((-2, 3))\n",
    "    if unit_label is not None:\n",
    "        zlabel = '%s (%s)' % (name, unit_label)\n",
    "    else:\n",
    "        zlabel = name\n",
    "    for idx, env in enumerate(env_list):\n",
    "        fig = plt.figure(idx + 1)\n",
    "        ax = fig.add_subplot(111, projection='3d')\n",
    "        cur_val = ans[..., idx]\n",
    "        if unit_val is not None:\n",
    "            cur_val = cur_val / unit_val\n",
    "        ax.plot_surface(vds_mat, vgs_mat, cur_val, rstride=1, cstride=1, linewidth=0, cmap=cm.cubehelix)\n",
    "        ax.set_title('%s (corner=%s)' % (name, env))\n",
    "        ax.set_xlabel('Vds (V)')\n",
    "        ax.set_ylabel('Vgs (V)')\n",
    "        ax.set_zlabel(zlabel)\n",
    "        ax.w_zaxis.set_major_formatter(formatter)\n",
    "\n",
    "    plt.show()\n"
   ]
  },
  {
   "cell_type": "markdown",
   "metadata": {},
   "source": [
    "## Querying Small-Signal Parameters\n",
    "To lookup transistor small signal parameters given a bias point, use the `query()` method by evaluating the following cell.  Feel free to play around with the numbers."
   ]
  },
  {
   "cell_type": "code",
   "execution_count": null,
   "metadata": {},
   "outputs": [],
   "source": [
    "query(vgs=0.4, vds=0.5, vbs=0.0)"
   ]
  },
  {
   "cell_type": "markdown",
   "metadata": {},
   "source": [
    "## Plotting Small-Signal Parameters\n",
    "`MOSDBDiscrete` stores each small signal parameter as a continuous function interpolated from simulation data.  This makes it easy to manipulate those functions directly (such as using an optimization solver).  For a simple example, the `plot_data()` method simply plots the functions versus $V_{gs}$ and $V_{ds}$.  Evaluate the following cell to see plots of various different small signal parameters."
   ]
  },
  {
   "cell_type": "code",
   "execution_count": null,
   "metadata": {},
   "outputs": [],
   "source": [
    "%matplotlib inline\n",
    "\n",
    "plot_data(name='ibias')"
   ]
  }
 ],
 "metadata": {
  "kernelspec": {
   "display_name": "Python 3",
   "language": "python",
   "name": "python3"
  },
  "language_info": {
   "codemirror_mode": {
    "name": "ipython",
    "version": 3
   },
   "file_extension": ".py",
   "mimetype": "text/x-python",
   "name": "python",
   "nbconvert_exporter": "python",
   "pygments_lexer": "ipython3",
   "version": "3.6.8"
  }
 },
 "nbformat": 4,
 "nbformat_minor": 2
}
